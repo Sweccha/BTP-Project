{
 "cells": [
  {
   "cell_type": "code",
   "execution_count": 1,
   "id": "16fb6280",
   "metadata": {},
   "outputs": [],
   "source": [
    "import cv2"
   ]
  },
  {
   "cell_type": "code",
   "execution_count": 2,
   "id": "7109b689",
   "metadata": {},
   "outputs": [],
   "source": [
    "import cv2 as cv\n",
    "import numpy as np\n",
    "import time"
   ]
  },
  {
   "cell_type": "code",
   "execution_count": 3,
   "id": "ea228385",
   "metadata": {},
   "outputs": [],
   "source": [
    "import cv2\n",
    "\n",
    "# Load the YOLO model\n",
    "model = cv2.dnn.readNetFromDarknet(\"C:/Users/sweccha ranjan/Downloads/yolov3.cfg\", \"C:/Users/sweccha ranjan/Downloads/yolov3.weights\")"
   ]
  },
  {
   "cell_type": "code",
   "execution_count": 4,
   "id": "fd340bbb",
   "metadata": {},
   "outputs": [],
   "source": [
    "#  Load the input image\n",
    "image = cv2.imread(\"C:/Users/sweccha ranjan/Downloads/tata.jpg\")"
   ]
  },
  {
   "cell_type": "code",
   "execution_count": 5,
   "id": "e0434c65",
   "metadata": {},
   "outputs": [],
   "source": [
    "# Get the dimensions of the image\n",
    "(H, W) = image.shape[:2]"
   ]
  },
  {
   "cell_type": "code",
   "execution_count": 6,
   "id": "1e4927e9",
   "metadata": {},
   "outputs": [],
   "source": [
    "# Create a blob from the image\n",
    "blob = cv2.dnn.blobFromImage(image, 1/255.0, (416, 416), swapRB=True, crop=False)"
   ]
  },
  {
   "cell_type": "code",
   "execution_count": 7,
   "id": "75b915e3",
   "metadata": {},
   "outputs": [],
   "source": [
    "# Pass the blob through the network\n",
    "model.setInput(blob)\n",
    "outputs = model.forward(model.getUnconnectedOutLayersNames())"
   ]
  },
  {
   "cell_type": "code",
   "execution_count": 8,
   "id": "98478451",
   "metadata": {},
   "outputs": [
    {
     "name": "stdout",
     "output_type": "stream",
     "text": [
      "Height: 26\n",
      "Height: 71\n",
      "Height: 10\n",
      "Height: 65\n",
      "Height: 21\n",
      "Height: 11\n",
      "Height: 18\n",
      "Height: 53\n"
     ]
    }
   ],
   "source": [
    "# Loop over the output detections\n",
    "for output in outputs:\n",
    "    # Loop over the detections\n",
    "    for detection in output:\n",
    "        # Extract the class ID and confidence of the prediction\n",
    "        scores = detection[5:]\n",
    "        classID = np.argmax(scores)\n",
    "        confidence = scores[classID]\n",
    "\n",
    "        # Filter out weak predictions\n",
    "        if confidence > 0.5:\n",
    "            # Scale the bounding box coordinates back to the size of the image\n",
    "            box = detection[0:4] * np.array([W, H, W, H])\n",
    "            (startX, startY, endX, endY) = box.astype(\"int\")\n",
    "\n",
    "            # Draw the bounding box on the image\n",
    "            cv2.rectangle(image, (startX, startY), (endX, endY), (255, 0, 0), 2)\n",
    "\n",
    "            # Display the height of the bounding box\n",
    "            height = endY - startY\n",
    "            print(\"Height:\", height)\n",
    "\n"
   ]
  },
  {
   "cell_type": "code",
   "execution_count": null,
   "id": "66f33a0a",
   "metadata": {},
   "outputs": [],
   "source": []
  }
 ],
 "metadata": {
  "kernelspec": {
   "display_name": "Python 3 (ipykernel)",
   "language": "python",
   "name": "python3"
  },
  "language_info": {
   "codemirror_mode": {
    "name": "ipython",
    "version": 3
   },
   "file_extension": ".py",
   "mimetype": "text/x-python",
   "name": "python",
   "nbconvert_exporter": "python",
   "pygments_lexer": "ipython3",
   "version": "3.9.12"
  }
 },
 "nbformat": 4,
 "nbformat_minor": 5
}
